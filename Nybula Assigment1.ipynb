{
 "cells": [
  {
   "cell_type": "code",
   "execution_count": 2,
   "metadata": {},
   "outputs": [
    {
     "name": "stdout",
     "output_type": "stream",
     "text": [
      "Warning: data2.py wasn't found!\n",
      "\n",
      "['09:00', '10:00', '10:20']10:00\n",
      "['09:00', '09:20', '09:40', '10:00', '10:20', '10:40', '11:00', '11:20', '11:40']9:20\n"
     ]
    }
   ],
   "source": [
    "import pandas as pd\n",
    "\n",
    "\n",
    "def book_appointments(schedule, appointments):\n",
    "    \"\"\" Books the appointments df in schedule df, and returns new available times in\n",
    "    the same format as schedule.\n",
    "    \"\"\"\n",
    "\n",
    "    s_df = pd.DataFrame(schedule)\n",
    "    a_df = pd.DataFrame(appointments)\n",
    "\n",
    "    pd.options.mode.chained_assignment = None       # to ignore overwriting warning\n",
    "    for a_index, grp_siz, a_time in a_df.itertuples():\n",
    "        s_idx_of_time_match = s_df.index[s_df['time'] == a_time].tolist()[0]\n",
    "        s_df_grp_siz_bfr = s_df[s_idx_of_time_match:s_idx_of_time_match + grp_siz]\n",
    "\n",
    "        if (s_df_grp_siz_bfr['quota'] > 0).all():\n",
    "            s_df_grp_siz_bfr['quota'] = s_df_grp_siz_bfr['quota'].apply(lambda a: a-1)\n",
    "    pd.options.mode.chained_assignment = 'warn'     # put it back to default\n",
    "\n",
    "    new_schedule = list(s_df.to_dict('records'))    # an updated list of available\n",
    "    return new_schedule                             # times in the same format.\n",
    "\n",
    "def bookable_times(schedule, grp_siz):\n",
    "    \"\"\" Returns a list of available times for a group size of grp_siz in schedule.\n",
    "    \"\"\"\n",
    "\n",
    "    s_df = pd.DataFrame(schedule)\n",
    "    bookable_hours = list()\n",
    "    for s_index, quota, s_time in s_df.loc[s_df['quota'] > 0].itertuples():\n",
    "        if (s_df.iloc[s_index:s_index + grp_siz]['quota'] > 0).all():\n",
    "            bookable_hours.append(s_time)\n",
    "\n",
    "    return bookable_hours\n",
    "\n",
    "def avail_times_for_a_grp_siz(schedule, appointments=None, grp_siz=1):\n",
    "    \"\"\" Returns available times for a group size of grp_siz in schedule given that\n",
    "    appointments is booked in schedule.\n",
    "    \"\"\"\n",
    "\n",
    "    return bookable_times(book_appointments(schedule, appointments), grp_siz)\n",
    "\n",
    "if __name__ == \"__main__\":\n",
    "    try:\n",
    "        from data2 import free_schedule, appointments\n",
    "    except:\n",
    "        print(\"Warning: data2.py wasn't found!\\n\")\n",
    "        free_schedule = [\n",
    "            {'quota': 3, 'time': '09:00'},\n",
    "            {'quota': 3, 'time': '09:20'},\n",
    "            {'quota': 3, 'time': '09:40'},\n",
    "            {'quota': 3, 'time': '10:00'},\n",
    "            {'quota': 3, 'time': '10:20'},\n",
    "            {'quota': 3, 'time': '10:40'},\n",
    "            {'quota': 2, 'time': '11:00'},\n",
    "            {'quota': 2, 'time': '11:20'},\n",
    "            {'quota': 2, 'time': '11:40'}\n",
    "        ]\n",
    "        appointments = [\n",
    "            {'number_of_people': 2, 'time': '10:40'},\n",
    "            {'number_of_people': 3, 'time': '09:00'},\n",
    "            {'number_of_people': 1, 'time': '11:40'},\n",
    "            {'number_of_people': 2, 'time': '11:20'},\n",
    "            {'number_of_people': 1, 'time': '09:40'},\n",
    "            {'number_of_people': 3, 'time': '09:00'},\n",
    "            {'number_of_people': 4, 'time': '10:00'}\n",
    "        ]\n",
    "    input(avail_times_for_a_grp_siz(free_schedule, appointments, 2))\n",
    "    input(avail_times_for_a_grp_siz(free_schedule))"
   ]
  },
  {
   "cell_type": "code",
   "execution_count": null,
   "metadata": {},
   "outputs": [],
   "source": []
  }
 ],
 "metadata": {
  "kernelspec": {
   "display_name": "Python 3",
   "language": "python",
   "name": "python3"
  },
  "language_info": {
   "codemirror_mode": {
    "name": "ipython",
    "version": 3
   },
   "file_extension": ".py",
   "mimetype": "text/x-python",
   "name": "python",
   "nbconvert_exporter": "python",
   "pygments_lexer": "ipython3",
   "version": "3.8.3"
  }
 },
 "nbformat": 4,
 "nbformat_minor": 4
}
